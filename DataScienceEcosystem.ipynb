{
 "cells": [
  {
   "cell_type": "markdown",
   "id": "5601b806-11f6-404a-b103-155814c620bb",
   "metadata": {},
   "source": [
    "# Data Science Tools and Ecosystem"
   ]
  },
  {
   "cell_type": "markdown",
   "id": "5030f6e1-e478-47f4-a5e0-62ebf4c917c9",
   "metadata": {},
   "source": [
    "**Objectives:**\n",
    "\n",
    "* List Data Science languages\n",
    "* List Data Science libraries\n",
    "* List Data Science tools\n",
    "* Format markdown cells with headings, tables, lists etc\n",
    "* Execute simple Python arithmetic expressions"
   ]
  },
  {
   "cell_type": "markdown",
   "id": "e2208651-6891-4934-9d6f-4d44e659268b",
   "metadata": {},
   "source": [
    "In this notebook, Data Science Tools and Ecosystem are summarized."
   ]
  },
  {
   "cell_type": "markdown",
   "id": "a81e9ec6-5782-4fa5-b6a6-b31d27153932",
   "metadata": {},
   "source": [
    "Some of the popular languages that Data Scientists use are:\n",
    "1. Pyrhon\n",
    "2. R\n",
    "3. Julia\n",
    "4. Scala\n",
    "5. SQL"
   ]
  },
  {
   "cell_type": "markdown",
   "id": "7fb6403e-b5e5-4cc4-a72a-a671b5d9e907",
   "metadata": {},
   "source": [
    "Some of the commonly used libraries used by Data Scientists include:\n",
    "\n",
    "1. Pandas\n",
    "2. NumPy\n",
    "3. Matplotlib\n",
    "4. Scikit-learn\n",
    "5. TensorFlow\n",
    "6. PyTorch\n",
    "7. Apache Spark"
   ]
  },
  {
   "cell_type": "markdown",
   "id": "88844b41-58f7-4685-ae08-d7de2cff18ca",
   "metadata": {},
   "source": [
    "|Data Science Tools|\n",
    "|------------------|\n",
    "|Jupyter|\n",
    "|RStudio|\n",
    "|Spyder|"
   ]
  },
  {
   "cell_type": "markdown",
   "id": "97cc74d8-39d8-4828-8ae1-63caffe7f18c",
   "metadata": {},
   "source": [
    "### Below are a few examples of evaluating arithmetic expressions in Python"
   ]
  },
  {
   "cell_type": "code",
   "execution_count": 21,
   "id": "abf8d7c4-dff2-4859-856c-5f56e40bc046",
   "metadata": {},
   "outputs": [
    {
     "data": {
      "text/plain": [
       "17"
      ]
     },
     "execution_count": 21,
     "metadata": {},
     "output_type": "execute_result"
    }
   ],
   "source": [
    "# This is a simple arithmetic expression to multiply then add integers\n",
    "(3*4)+5"
   ]
  },
  {
   "cell_type": "code",
   "execution_count": 29,
   "id": "71ba5371-be60-4b51-99d3-3c02c1196426",
   "metadata": {},
   "outputs": [
    {
     "data": {
      "text/plain": [
       "3.3333333333333335"
      ]
     },
     "execution_count": 29,
     "metadata": {},
     "output_type": "execute_result"
    }
   ],
   "source": [
    "# This will comvert 200 minutes to hours by dividing by 60\n",
    "200/60"
   ]
  },
  {
   "cell_type": "markdown",
   "id": "73e55bcd-67e5-455d-9fcc-f1f57adcaf3f",
   "metadata": {},
   "source": [
    "## Author\n",
    "Wenqi Yue"
   ]
  },
  {
   "cell_type": "code",
   "execution_count": null,
   "id": "9dae153a-836e-4565-81a5-6a41ff9bcc00",
   "metadata": {},
   "outputs": [],
   "source": []
  }
 ],
 "metadata": {
  "kernelspec": {
   "display_name": "Python 3 (ipykernel)",
   "language": "python",
   "name": "python3"
  },
  "language_info": {
   "codemirror_mode": {
    "name": "ipython",
    "version": 3
   },
   "file_extension": ".py",
   "mimetype": "text/x-python",
   "name": "python",
   "nbconvert_exporter": "python",
   "pygments_lexer": "ipython3",
   "version": "3.12.7"
  }
 },
 "nbformat": 4,
 "nbformat_minor": 5
}
